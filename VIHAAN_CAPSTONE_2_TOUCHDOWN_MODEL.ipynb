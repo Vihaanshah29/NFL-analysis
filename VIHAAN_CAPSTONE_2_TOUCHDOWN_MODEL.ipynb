{
  "nbformat": 4,
  "nbformat_minor": 0,
  "metadata": {
    "colab": {
      "name": "VIHAAN_CAPSTONE_2_TOUCHDOWN_MODEL.ipynb",
      "provenance": []
    },
    "kernelspec": {
      "name": "python3",
      "display_name": "Python 3"
    },
    "language_info": {
      "name": "python"
    }
  },
  "cells": [
    {
      "cell_type": "markdown",
      "metadata": {
        "id": "jWLbcf919wRX"
      },
      "source": [
        "**predicting Touchdown**"
      ]
    },
    {
      "cell_type": "code",
      "metadata": {
        "id": "DaxqMQVy5bEQ"
      },
      "source": [
        "import numpy as np\n",
        "import pandas as pd\n",
        "import matplotlib.pyplot as plt\n",
        "import seaborn as sns\n",
        "import warnings\n",
        "warnings.filterwarnings('ignore')\n",
        "sns.set()"
      ],
      "execution_count": 1,
      "outputs": []
    },
    {
      "cell_type": "code",
      "metadata": {
        "id": "3_g4OqUJ_Dk_"
      },
      "source": [
        "import numpy as np\n",
        "import matplotlib.pyplot as plt\n",
        "import seaborn as sns\n",
        "from sklearn.model_selection import train_test_split\n",
        "from sklearn.metrics import accuracy_score, confusion_matrix, classification_report\n",
        "from sklearn.tree import DecisionTreeClassifier\n",
        "from sklearn.ensemble import RandomForestClassifier\n",
        "from sklearn.model_selection import RandomizedSearchCV\n",
        "plt.style.use('seaborn-talk')"
      ],
      "execution_count": 2,
      "outputs": []
    },
    {
      "cell_type": "code",
      "metadata": {
        "colab": {
          "base_uri": "https://localhost:8080/"
        },
        "id": "UqLeZysz5CW0",
        "outputId": "bc8fb282-21d0-4cda-c168-add9a86076e8"
      },
      "source": [
        "from google.colab import drive\n",
        "drive.mount('/content/drive')"
      ],
      "execution_count": 3,
      "outputs": [
        {
          "output_type": "stream",
          "text": [
            "Drive already mounted at /content/drive; to attempt to forcibly remount, call drive.mount(\"/content/drive\", force_remount=True).\n"
          ],
          "name": "stdout"
        }
      ]
    },
    {
      "cell_type": "code",
      "metadata": {
        "id": "8Nc2T63h5Ojt"
      },
      "source": [
        "data = pd.read_csv('/content/drive/MyDrive/capstone_2_final_preprocessed_data.csv')"
      ],
      "execution_count": 4,
      "outputs": []
    },
    {
      "cell_type": "code",
      "metadata": {
        "id": "9jMzk2pskTHz"
      },
      "source": [
        "data=data.drop('Unnamed: 0',axis=1)"
      ],
      "execution_count": 5,
      "outputs": []
    },
    {
      "cell_type": "code",
      "metadata": {
        "colab": {
          "base_uri": "https://localhost:8080/",
          "height": 470
        },
        "id": "Y5W5H25aj4CE",
        "outputId": "dbf696b7-4724-4e60-f3cb-894d3396cbcb"
      },
      "source": [
        "data.head()"
      ],
      "execution_count": 6,
      "outputs": [
        {
          "output_type": "execute_result",
          "data": {
            "text/html": [
              "<div>\n",
              "<style scoped>\n",
              "    .dataframe tbody tr th:only-of-type {\n",
              "        vertical-align: middle;\n",
              "    }\n",
              "\n",
              "    .dataframe tbody tr th {\n",
              "        vertical-align: top;\n",
              "    }\n",
              "\n",
              "    .dataframe thead th {\n",
              "        text-align: right;\n",
              "    }\n",
              "</style>\n",
              "<table border=\"1\" class=\"dataframe\">\n",
              "  <thead>\n",
              "    <tr style=\"text-align: right;\">\n",
              "      <th></th>\n",
              "      <th>Date</th>\n",
              "      <th>GameID</th>\n",
              "      <th>Drive</th>\n",
              "      <th>qtr</th>\n",
              "      <th>down</th>\n",
              "      <th>time</th>\n",
              "      <th>TimeUnder</th>\n",
              "      <th>TimeSecs</th>\n",
              "      <th>PlayTimeDiff</th>\n",
              "      <th>SideofField</th>\n",
              "      <th>yrdln</th>\n",
              "      <th>yrdline100</th>\n",
              "      <th>ydstogo</th>\n",
              "      <th>ydsnet</th>\n",
              "      <th>GoalToGo</th>\n",
              "      <th>FirstDown</th>\n",
              "      <th>posteam</th>\n",
              "      <th>DefensiveTeam</th>\n",
              "      <th>desc</th>\n",
              "      <th>PlayAttempted</th>\n",
              "      <th>Yards.Gained</th>\n",
              "      <th>sp</th>\n",
              "      <th>Touchdown</th>\n",
              "      <th>Safety</th>\n",
              "      <th>Onsidekick</th>\n",
              "      <th>PlayType</th>\n",
              "      <th>Passer_ID</th>\n",
              "      <th>PassAttempt</th>\n",
              "      <th>PassOutcome</th>\n",
              "      <th>PassLength</th>\n",
              "      <th>AirYards</th>\n",
              "      <th>YardsAfterCatch</th>\n",
              "      <th>QBHit</th>\n",
              "      <th>PassLocation</th>\n",
              "      <th>InterceptionThrown</th>\n",
              "      <th>Rusher_ID</th>\n",
              "      <th>RushAttempt</th>\n",
              "      <th>RunLocation</th>\n",
              "      <th>RunGap</th>\n",
              "      <th>Receiver_ID</th>\n",
              "      <th>...</th>\n",
              "      <th>RecFumbPlayer</th>\n",
              "      <th>Sack</th>\n",
              "      <th>Challenge.Replay</th>\n",
              "      <th>Accepted.Penalty</th>\n",
              "      <th>Penalty.Yards</th>\n",
              "      <th>PosTeamScore</th>\n",
              "      <th>DefTeamScore</th>\n",
              "      <th>ScoreDiff</th>\n",
              "      <th>AbsScoreDiff</th>\n",
              "      <th>HomeTeam</th>\n",
              "      <th>AwayTeam</th>\n",
              "      <th>Timeout_Indicator</th>\n",
              "      <th>Timeout_Team</th>\n",
              "      <th>posteam_timeouts_pre</th>\n",
              "      <th>HomeTimeouts_Remaining_Pre</th>\n",
              "      <th>AwayTimeouts_Remaining_Pre</th>\n",
              "      <th>HomeTimeouts_Remaining_Post</th>\n",
              "      <th>AwayTimeouts_Remaining_Post</th>\n",
              "      <th>No_Score_Prob</th>\n",
              "      <th>Opp_Field_Goal_Prob</th>\n",
              "      <th>Opp_Safety_Prob</th>\n",
              "      <th>Opp_Touchdown_Prob</th>\n",
              "      <th>Field_Goal_Prob</th>\n",
              "      <th>Safety_Prob</th>\n",
              "      <th>Touchdown_Prob</th>\n",
              "      <th>ExPoint_Prob</th>\n",
              "      <th>TwoPoint_Prob</th>\n",
              "      <th>ExpPts</th>\n",
              "      <th>EPA</th>\n",
              "      <th>airEPA</th>\n",
              "      <th>yacEPA</th>\n",
              "      <th>Home_WP_pre</th>\n",
              "      <th>Away_WP_pre</th>\n",
              "      <th>Home_WP_post</th>\n",
              "      <th>Away_WP_post</th>\n",
              "      <th>Win_Prob</th>\n",
              "      <th>WPA</th>\n",
              "      <th>airWPA</th>\n",
              "      <th>yacWPA</th>\n",
              "      <th>Season</th>\n",
              "    </tr>\n",
              "  </thead>\n",
              "  <tbody>\n",
              "    <tr>\n",
              "      <th>0</th>\n",
              "      <td>2009-09-10</td>\n",
              "      <td>2009091000</td>\n",
              "      <td>14</td>\n",
              "      <td>3</td>\n",
              "      <td>2.0</td>\n",
              "      <td>12:06</td>\n",
              "      <td>13</td>\n",
              "      <td>1626.0</td>\n",
              "      <td>54</td>\n",
              "      <td>PIT</td>\n",
              "      <td>42.0</td>\n",
              "      <td>42.0</td>\n",
              "      <td>10</td>\n",
              "      <td>38</td>\n",
              "      <td>0.0</td>\n",
              "      <td>1.0</td>\n",
              "      <td>TEN</td>\n",
              "      <td>PIT</td>\n",
              "      <td>(12:06) K.Collins pass short left to B.Scaife ...</td>\n",
              "      <td>1</td>\n",
              "      <td>1</td>\n",
              "      <td>0</td>\n",
              "      <td>0</td>\n",
              "      <td>0</td>\n",
              "      <td>0</td>\n",
              "      <td>Pass</td>\n",
              "      <td>00-0003292</td>\n",
              "      <td>1</td>\n",
              "      <td>Complete</td>\n",
              "      <td>Short</td>\n",
              "      <td>1</td>\n",
              "      <td>0</td>\n",
              "      <td>0</td>\n",
              "      <td>left</td>\n",
              "      <td>0</td>\n",
              "      <td>None</td>\n",
              "      <td>0</td>\n",
              "      <td>left</td>\n",
              "      <td>tackle</td>\n",
              "      <td>00-0023612</td>\n",
              "      <td>...</td>\n",
              "      <td>K.Fox</td>\n",
              "      <td>0</td>\n",
              "      <td>0</td>\n",
              "      <td>0</td>\n",
              "      <td>0</td>\n",
              "      <td>7.0</td>\n",
              "      <td>7.0</td>\n",
              "      <td>0.0</td>\n",
              "      <td>-0.0</td>\n",
              "      <td>PIT</td>\n",
              "      <td>TEN</td>\n",
              "      <td>0</td>\n",
              "      <td>None</td>\n",
              "      <td>3</td>\n",
              "      <td>3</td>\n",
              "      <td>3</td>\n",
              "      <td>3</td>\n",
              "      <td>3</td>\n",
              "      <td>0.001336</td>\n",
              "      <td>0.081366</td>\n",
              "      <td>0.000500</td>\n",
              "      <td>0.127569</td>\n",
              "      <td>0.361496</td>\n",
              "      <td>0.003636</td>\n",
              "      <td>0.424096</td>\n",
              "      <td>0.0</td>\n",
              "      <td>0.0</td>\n",
              "      <td>2.922348</td>\n",
              "      <td>-5.607747</td>\n",
              "      <td>-5.607747</td>\n",
              "      <td>0.000000</td>\n",
              "      <td>0.417641</td>\n",
              "      <td>0.582359</td>\n",
              "      <td>0.574091</td>\n",
              "      <td>0.425909</td>\n",
              "      <td>0.582359</td>\n",
              "      <td>-0.156450</td>\n",
              "      <td>-0.156450</td>\n",
              "      <td>0.000000</td>\n",
              "      <td>2009</td>\n",
              "    </tr>\n",
              "    <tr>\n",
              "      <th>1</th>\n",
              "      <td>2009-09-10</td>\n",
              "      <td>2009091000</td>\n",
              "      <td>15</td>\n",
              "      <td>3</td>\n",
              "      <td>4.0</td>\n",
              "      <td>10:12</td>\n",
              "      <td>11</td>\n",
              "      <td>1512.0</td>\n",
              "      <td>48</td>\n",
              "      <td>TEN</td>\n",
              "      <td>45.0</td>\n",
              "      <td>45.0</td>\n",
              "      <td>1</td>\n",
              "      <td>9</td>\n",
              "      <td>0.0</td>\n",
              "      <td>1.0</td>\n",
              "      <td>PIT</td>\n",
              "      <td>TEN</td>\n",
              "      <td>(10:12) (Punt formation) D.Sepulveda punts 38 ...</td>\n",
              "      <td>1</td>\n",
              "      <td>0</td>\n",
              "      <td>0</td>\n",
              "      <td>0</td>\n",
              "      <td>0</td>\n",
              "      <td>0</td>\n",
              "      <td>Punt</td>\n",
              "      <td>None</td>\n",
              "      <td>0</td>\n",
              "      <td>Complete</td>\n",
              "      <td>Short</td>\n",
              "      <td>0</td>\n",
              "      <td>0</td>\n",
              "      <td>0</td>\n",
              "      <td>left</td>\n",
              "      <td>0</td>\n",
              "      <td>None</td>\n",
              "      <td>0</td>\n",
              "      <td>left</td>\n",
              "      <td>tackle</td>\n",
              "      <td>None</td>\n",
              "      <td>...</td>\n",
              "      <td>K.Fox</td>\n",
              "      <td>0</td>\n",
              "      <td>0</td>\n",
              "      <td>0</td>\n",
              "      <td>0</td>\n",
              "      <td>7.0</td>\n",
              "      <td>7.0</td>\n",
              "      <td>0.0</td>\n",
              "      <td>-0.0</td>\n",
              "      <td>PIT</td>\n",
              "      <td>TEN</td>\n",
              "      <td>0</td>\n",
              "      <td>None</td>\n",
              "      <td>3</td>\n",
              "      <td>3</td>\n",
              "      <td>3</td>\n",
              "      <td>3</td>\n",
              "      <td>3</td>\n",
              "      <td>0.003482</td>\n",
              "      <td>0.148144</td>\n",
              "      <td>0.001430</td>\n",
              "      <td>0.236492</td>\n",
              "      <td>0.295397</td>\n",
              "      <td>0.006030</td>\n",
              "      <td>0.309024</td>\n",
              "      <td>0.0</td>\n",
              "      <td>0.0</td>\n",
              "      <td>0.958681</td>\n",
              "      <td>0.096593</td>\n",
              "      <td>0.000000</td>\n",
              "      <td>0.000000</td>\n",
              "      <td>0.515547</td>\n",
              "      <td>0.484453</td>\n",
              "      <td>0.549183</td>\n",
              "      <td>0.450817</td>\n",
              "      <td>0.515547</td>\n",
              "      <td>0.033635</td>\n",
              "      <td>0.000000</td>\n",
              "      <td>0.000000</td>\n",
              "      <td>2009</td>\n",
              "    </tr>\n",
              "    <tr>\n",
              "      <th>2</th>\n",
              "      <td>2009-09-10</td>\n",
              "      <td>2009091000</td>\n",
              "      <td>23</td>\n",
              "      <td>4</td>\n",
              "      <td>1.0</td>\n",
              "      <td>01:03</td>\n",
              "      <td>2</td>\n",
              "      <td>63.0</td>\n",
              "      <td>57</td>\n",
              "      <td>TEN</td>\n",
              "      <td>34.0</td>\n",
              "      <td>34.0</td>\n",
              "      <td>10</td>\n",
              "      <td>54</td>\n",
              "      <td>0.0</td>\n",
              "      <td>1.0</td>\n",
              "      <td>PIT</td>\n",
              "      <td>TEN</td>\n",
              "      <td>(1:03) (Shotgun) B.Roethlisberger pass deep mi...</td>\n",
              "      <td>1</td>\n",
              "      <td>30</td>\n",
              "      <td>0</td>\n",
              "      <td>0</td>\n",
              "      <td>0</td>\n",
              "      <td>0</td>\n",
              "      <td>Pass</td>\n",
              "      <td>00-0022924</td>\n",
              "      <td>1</td>\n",
              "      <td>Complete</td>\n",
              "      <td>Deep</td>\n",
              "      <td>16</td>\n",
              "      <td>14</td>\n",
              "      <td>0</td>\n",
              "      <td>middle</td>\n",
              "      <td>0</td>\n",
              "      <td>None</td>\n",
              "      <td>0</td>\n",
              "      <td>left</td>\n",
              "      <td>tackle</td>\n",
              "      <td>00-0017162</td>\n",
              "      <td>...</td>\n",
              "      <td>S.Tulloch</td>\n",
              "      <td>0</td>\n",
              "      <td>0</td>\n",
              "      <td>0</td>\n",
              "      <td>0</td>\n",
              "      <td>10.0</td>\n",
              "      <td>10.0</td>\n",
              "      <td>0.0</td>\n",
              "      <td>-0.0</td>\n",
              "      <td>PIT</td>\n",
              "      <td>TEN</td>\n",
              "      <td>0</td>\n",
              "      <td>None</td>\n",
              "      <td>2</td>\n",
              "      <td>2</td>\n",
              "      <td>3</td>\n",
              "      <td>2</td>\n",
              "      <td>3</td>\n",
              "      <td>0.384776</td>\n",
              "      <td>0.023877</td>\n",
              "      <td>0.000103</td>\n",
              "      <td>0.017213</td>\n",
              "      <td>0.308130</td>\n",
              "      <td>0.000673</td>\n",
              "      <td>0.265228</td>\n",
              "      <td>0.0</td>\n",
              "      <td>0.0</td>\n",
              "      <td>2.590006</td>\n",
              "      <td>-2.766193</td>\n",
              "      <td>0.663581</td>\n",
              "      <td>-3.429773</td>\n",
              "      <td>0.798849</td>\n",
              "      <td>0.201151</td>\n",
              "      <td>0.415150</td>\n",
              "      <td>0.584850</td>\n",
              "      <td>0.798849</td>\n",
              "      <td>-0.383699</td>\n",
              "      <td>0.060954</td>\n",
              "      <td>-0.444653</td>\n",
              "      <td>2009</td>\n",
              "    </tr>\n",
              "    <tr>\n",
              "      <th>3</th>\n",
              "      <td>2009-09-13</td>\n",
              "      <td>2009091304</td>\n",
              "      <td>7</td>\n",
              "      <td>2</td>\n",
              "      <td>0.0</td>\n",
              "      <td>11:09</td>\n",
              "      <td>12</td>\n",
              "      <td>2469.0</td>\n",
              "      <td>51</td>\n",
              "      <td>MIN</td>\n",
              "      <td>30.0</td>\n",
              "      <td>30.0</td>\n",
              "      <td>0</td>\n",
              "      <td>0</td>\n",
              "      <td>0.0</td>\n",
              "      <td>1.0</td>\n",
              "      <td>CLE</td>\n",
              "      <td>MIN</td>\n",
              "      <td>R.Longwell kicks 70 yards from MIN 30 to CLE 0...</td>\n",
              "      <td>1</td>\n",
              "      <td>27</td>\n",
              "      <td>0</td>\n",
              "      <td>0</td>\n",
              "      <td>0</td>\n",
              "      <td>0</td>\n",
              "      <td>Kickoff</td>\n",
              "      <td>None</td>\n",
              "      <td>0</td>\n",
              "      <td>Complete</td>\n",
              "      <td>Deep</td>\n",
              "      <td>0</td>\n",
              "      <td>0</td>\n",
              "      <td>0</td>\n",
              "      <td>middle</td>\n",
              "      <td>0</td>\n",
              "      <td>None</td>\n",
              "      <td>0</td>\n",
              "      <td>left</td>\n",
              "      <td>tackle</td>\n",
              "      <td>None</td>\n",
              "      <td>...</td>\n",
              "      <td>S.Tulloch</td>\n",
              "      <td>0</td>\n",
              "      <td>0</td>\n",
              "      <td>0</td>\n",
              "      <td>0</td>\n",
              "      <td>3.0</td>\n",
              "      <td>10.0</td>\n",
              "      <td>-7.0</td>\n",
              "      <td>7.0</td>\n",
              "      <td>CLE</td>\n",
              "      <td>MIN</td>\n",
              "      <td>0</td>\n",
              "      <td>None</td>\n",
              "      <td>3</td>\n",
              "      <td>3</td>\n",
              "      <td>3</td>\n",
              "      <td>3</td>\n",
              "      <td>3</td>\n",
              "      <td>0.125554</td>\n",
              "      <td>0.151593</td>\n",
              "      <td>0.005507</td>\n",
              "      <td>0.227161</td>\n",
              "      <td>0.193684</td>\n",
              "      <td>0.003012</td>\n",
              "      <td>0.293488</td>\n",
              "      <td>0.0</td>\n",
              "      <td>0.0</td>\n",
              "      <td>0.585576</td>\n",
              "      <td>0.433691</td>\n",
              "      <td>0.000000</td>\n",
              "      <td>0.000000</td>\n",
              "      <td>0.269452</td>\n",
              "      <td>0.730548</td>\n",
              "      <td>0.283650</td>\n",
              "      <td>0.716350</td>\n",
              "      <td>0.269452</td>\n",
              "      <td>0.014197</td>\n",
              "      <td>0.000000</td>\n",
              "      <td>0.000000</td>\n",
              "      <td>2009</td>\n",
              "    </tr>\n",
              "    <tr>\n",
              "      <th>4</th>\n",
              "      <td>2009-09-13</td>\n",
              "      <td>2009091304</td>\n",
              "      <td>7</td>\n",
              "      <td>2</td>\n",
              "      <td>2.0</td>\n",
              "      <td>10:17</td>\n",
              "      <td>11</td>\n",
              "      <td>2417.0</td>\n",
              "      <td>43</td>\n",
              "      <td>CLE</td>\n",
              "      <td>27.0</td>\n",
              "      <td>73.0</td>\n",
              "      <td>8</td>\n",
              "      <td>73</td>\n",
              "      <td>0.0</td>\n",
              "      <td>1.0</td>\n",
              "      <td>CLE</td>\n",
              "      <td>MIN</td>\n",
              "      <td>(10:17) B.Quinn pass short middle to L.Vickers...</td>\n",
              "      <td>1</td>\n",
              "      <td>12</td>\n",
              "      <td>0</td>\n",
              "      <td>0</td>\n",
              "      <td>0</td>\n",
              "      <td>0</td>\n",
              "      <td>Pass</td>\n",
              "      <td>00-0025409</td>\n",
              "      <td>1</td>\n",
              "      <td>Complete</td>\n",
              "      <td>Short</td>\n",
              "      <td>2</td>\n",
              "      <td>10</td>\n",
              "      <td>0</td>\n",
              "      <td>middle</td>\n",
              "      <td>0</td>\n",
              "      <td>None</td>\n",
              "      <td>0</td>\n",
              "      <td>left</td>\n",
              "      <td>tackle</td>\n",
              "      <td>00-0024394</td>\n",
              "      <td>...</td>\n",
              "      <td>S.Tulloch</td>\n",
              "      <td>0</td>\n",
              "      <td>1</td>\n",
              "      <td>0</td>\n",
              "      <td>0</td>\n",
              "      <td>3.0</td>\n",
              "      <td>10.0</td>\n",
              "      <td>-7.0</td>\n",
              "      <td>7.0</td>\n",
              "      <td>CLE</td>\n",
              "      <td>MIN</td>\n",
              "      <td>1</td>\n",
              "      <td>MIN</td>\n",
              "      <td>3</td>\n",
              "      <td>3</td>\n",
              "      <td>3</td>\n",
              "      <td>3</td>\n",
              "      <td>2</td>\n",
              "      <td>0.138326</td>\n",
              "      <td>0.148025</td>\n",
              "      <td>0.003850</td>\n",
              "      <td>0.220793</td>\n",
              "      <td>0.197775</td>\n",
              "      <td>0.003300</td>\n",
              "      <td>0.287931</td>\n",
              "      <td>0.0</td>\n",
              "      <td>0.0</td>\n",
              "      <td>0.618122</td>\n",
              "      <td>1.505180</td>\n",
              "      <td>-0.523761</td>\n",
              "      <td>2.028941</td>\n",
              "      <td>0.273260</td>\n",
              "      <td>0.726740</td>\n",
              "      <td>0.338336</td>\n",
              "      <td>0.661664</td>\n",
              "      <td>0.273260</td>\n",
              "      <td>0.065076</td>\n",
              "      <td>-0.016060</td>\n",
              "      <td>0.081136</td>\n",
              "      <td>2009</td>\n",
              "    </tr>\n",
              "  </tbody>\n",
              "</table>\n",
              "<p>5 rows × 83 columns</p>\n",
              "</div>"
            ],
            "text/plain": [
              "         Date      GameID  Drive  qtr  ...       WPA    airWPA    yacWPA  Season\n",
              "0  2009-09-10  2009091000     14    3  ... -0.156450 -0.156450  0.000000    2009\n",
              "1  2009-09-10  2009091000     15    3  ...  0.033635  0.000000  0.000000    2009\n",
              "2  2009-09-10  2009091000     23    4  ... -0.383699  0.060954 -0.444653    2009\n",
              "3  2009-09-13  2009091304      7    2  ...  0.014197  0.000000  0.000000    2009\n",
              "4  2009-09-13  2009091304      7    2  ...  0.065076 -0.016060  0.081136    2009\n",
              "\n",
              "[5 rows x 83 columns]"
            ]
          },
          "metadata": {
            "tags": []
          },
          "execution_count": 6
        }
      ]
    },
    {
      "cell_type": "markdown",
      "metadata": {
        "id": "Yq6g11k_kjCR"
      },
      "source": [
        "This dataset has columns representing various types of probabilities. Since those probability equations are not part of the raw data, I am dropping them."
      ]
    },
    {
      "cell_type": "code",
      "metadata": {
        "id": "Uho1YOOlkvvp"
      },
      "source": [
        "data.drop(['No_Score_Prob', 'Opp_Field_Goal_Prob', 'Opp_Safety_Prob', 'Opp_Touchdown_Prob', \n",
        "         'Field_Goal_Prob','Safety_Prob', 'Touchdown_Prob', 'ExPoint_Prob', 'TwoPoint_Prob', 'ExpPts', \n",
        "         'EPA', 'airEPA', 'yacEPA','Home_WP_pre', 'Away_WP_pre', 'Home_WP_post', 'Away_WP_post', \n",
        "         'Win_Prob', 'WPA', 'airWPA','yacWPA'],axis=1,inplace=True)"
      ],
      "execution_count": 7,
      "outputs": []
    },
    {
      "cell_type": "markdown",
      "metadata": {
        "id": "xH2uotA7-MvI"
      },
      "source": [
        "There is also a number of columns that have no significance in touchdowns being scored. These columns will also be dropped."
      ]
    },
    {
      "cell_type": "code",
      "metadata": {
        "id": "98C3Rlcw-IA-"
      },
      "source": [
        "data.drop(['GameID', 'time', 'Date', 'PlayTimeDiff', 'ydsnet','desc', 'Safety', 'Onsidekick', 'Passer_ID'\n",
        ",'Rusher_ID', 'Receiver_ID', 'Challenge.Replay', 'Accepted.Penalty','Penalty.Yards','Timeout_Team', \n",
        "         'posteam_timeouts_pre', 'HomeTimeouts_Remaining_Pre', 'AwayTimeouts_Remaining_Pre',\n",
        "         'HomeTimeouts_Remaining_Post', 'AwayTimeouts_Remaining_Post', 'sp'], axis=1, \n",
        "          inplace=True)"
      ],
      "execution_count": 8,
      "outputs": []
    },
    {
      "cell_type": "code",
      "metadata": {
        "id": "9U6jgoB1_PaX"
      },
      "source": [
        "from sklearn.preprocessing import LabelEncoder\n",
        "le=LabelEncoder()\n",
        "data['SideofField']=le.fit_transform(data['SideofField'])\n",
        "data['posteam']=le.fit_transform(data['posteam'])\n",
        "data['DefensiveTeam']=le.fit_transform(data['DefensiveTeam'])\n",
        "data['PlayType']=le.fit_transform(data['PlayType'])\n",
        "data['PassOutcome']=le.fit_transform(data['PassOutcome'])\n",
        "data['PassLength']=le.fit_transform(data['PassLength'])\n",
        "data['PassLocation']=le.fit_transform(data['PassLocation'])\n",
        "data['RunLocation']=le.fit_transform(data['RunLocation'])\n",
        "data['RunGap']=le.fit_transform(data['RunGap'])\n",
        "data['RecFumbTeam']=le.fit_transform(data['RecFumbTeam'])\n",
        "data['RecFumbPlayer']=le.fit_transform(data['RecFumbPlayer'])\n",
        "data['HomeTeam']=le.fit_transform(data['HomeTeam'])\n",
        "data['AwayTeam']=le.fit_transform(data['AwayTeam'])\n",
        "data['Season']=le.fit_transform(data['Season'])"
      ],
      "execution_count": 9,
      "outputs": []
    },
    {
      "cell_type": "code",
      "metadata": {
        "id": "n6A3fmd4-xY6"
      },
      "source": [
        "y = data['Touchdown']\n",
        "\n",
        "X = data.drop('Touchdown', axis=1)"
      ],
      "execution_count": 10,
      "outputs": []
    },
    {
      "cell_type": "code",
      "metadata": {
        "id": "bgvaqxIG-6UZ"
      },
      "source": [
        "X_train, X_test, y_train, y_test = train_test_split(X, y, test_size = 0.25, random_state = 123, stratify=y)"
      ],
      "execution_count": 11,
      "outputs": []
    },
    {
      "cell_type": "code",
      "metadata": {
        "colab": {
          "base_uri": "https://localhost:8080/"
        },
        "id": "kjGLZBt9_GBI",
        "outputId": "3678519b-a565-4283-823c-2088a6a5a82b"
      },
      "source": [
        "pip install mlrose"
      ],
      "execution_count": 12,
      "outputs": [
        {
          "output_type": "stream",
          "text": [
            "Requirement already satisfied: mlrose in /usr/local/lib/python3.7/dist-packages (1.3.0)\n",
            "Requirement already satisfied: sklearn in /usr/local/lib/python3.7/dist-packages (from mlrose) (0.0)\n",
            "Requirement already satisfied: scipy in /usr/local/lib/python3.7/dist-packages (from mlrose) (1.4.1)\n",
            "Requirement already satisfied: numpy in /usr/local/lib/python3.7/dist-packages (from mlrose) (1.19.5)\n",
            "Requirement already satisfied: scikit-learn in /usr/local/lib/python3.7/dist-packages (from sklearn->mlrose) (0.22.2.post1)\n",
            "Requirement already satisfied: joblib>=0.11 in /usr/local/lib/python3.7/dist-packages (from scikit-learn->sklearn->mlrose) (1.0.1)\n"
          ],
          "name": "stdout"
        }
      ]
    },
    {
      "cell_type": "code",
      "metadata": {
        "colab": {
          "base_uri": "https://localhost:8080/"
        },
        "id": "ZCRxswkz-0lO",
        "outputId": "f55d83ec-6948-4922-ee7d-c98f13af6bb3"
      },
      "source": [
        "import six\n",
        "import sys\n",
        "sys.modules['sklearn.externals.six'] = six\n",
        "import mlrose\n",
        "from imblearn.over_sampling import SMOTE\n",
        "\n",
        "X_train_new, y_train_new = SMOTE().fit_sample(X_train, y_train)\n",
        "\n",
        "print(pd.Series(y_train_new).value_counts())"
      ],
      "execution_count": 13,
      "outputs": [
        {
          "output_type": "stream",
          "text": [
            "1    263907\n",
            "0    263907\n",
            "dtype: int64\n"
          ],
          "name": "stdout"
        }
      ]
    },
    {
      "cell_type": "code",
      "metadata": {
        "id": "LleM_Mee__SH"
      },
      "source": [
        "def pred_prob(clf, data): \n",
        "    y_pred = []\n",
        "    y_pred = clf.predict_proba(data)[:,1]\n",
        "    return y_pred"
      ],
      "execution_count": 14,
      "outputs": []
    },
    {
      "cell_type": "code",
      "metadata": {
        "id": "mVGC3-kqAB3l"
      },
      "source": [
        "def find_best_threshold(threshold, fpr, tpr):\n",
        "    thresh = threshold[np.argmax(tpr*(1-fpr))]\n",
        "    print(\"the maximum value of tpr*(1-fpr)\", max(tpr*(1-fpr)), \"for threshold\", np.round(thresh,3))\n",
        "    return thresh\n",
        "\n",
        "def predict_with_best_t(proba, threshold):\n",
        "    predictions = []\n",
        "    for i in proba:\n",
        "        if i>=threshold:\n",
        "            predictions.append(1)\n",
        "        else:\n",
        "            predictions.append(0)\n",
        "    return predictions"
      ],
      "execution_count": 15,
      "outputs": []
    },
    {
      "cell_type": "code",
      "metadata": {
        "colab": {
          "base_uri": "https://localhost:8080/",
          "height": 484
        },
        "id": "A1S1Vbif_Wh_",
        "outputId": "c3ab344f-94bd-41a0-a5a4-76f7f4e5dba5"
      },
      "source": [
        "from sklearn.metrics import roc_curve, auc\n",
        "\n",
        "nb_tfidf = DecisionTreeClassifier()  \n",
        "\n",
        "nb_tfidf.fit(X_train_new, y_train_new)\n",
        "\n",
        "\n",
        "y_train_pred = pred_prob(nb_tfidf, X_train_new)    \n",
        "y_test_pred = pred_prob(nb_tfidf, X_test)\n",
        "\n",
        "train_fpr, train_tpr, tr_thresholds = roc_curve(y_train_new, y_train_pred)\n",
        "test_fpr, test_tpr, te_thresholds = roc_curve(y_test, y_test_pred)\n",
        "\n",
        "plt.plot(train_fpr, train_tpr, label=\"Train AUC =\"+str(auc(train_fpr, train_tpr)))\n",
        "plt.plot(test_fpr, test_tpr, label=\"Test AUC =\"+str(auc(test_fpr, test_tpr)))\n",
        "plt.legend()\n",
        "plt.xlabel(\"False Positive Rate(FPR)\")\n",
        "plt.ylabel(\"True Positive Rate(TPR)\")\n",
        "plt.title(\"AUC\")\n",
        "plt.grid()\n",
        "plt.show()"
      ],
      "execution_count": 16,
      "outputs": [
        {
          "output_type": "display_data",
          "data": {
            "image/png": "[encoded data removed]",
            "text/plain": [
              "<Figure size 748.8x514.8 with 1 Axes>"
            ]
          },
          "metadata": {
            "tags": [],
            "needs_background": "light"
          }
        }
      ]
    },
    {
      "cell_type": "code",
      "metadata": {
        "colab": {
          "base_uri": "https://localhost:8080/",
          "height": 930
        },
        "id": "D9FNvB7xWJRx",
        "outputId": "079141bc-6bb7-4521-9dad-849677e3bb92"
      },
      "source": [
        "fig = plt.figure()\n",
        "ax = fig.add_subplot(111)\n",
        "print(\"Train Data confusion matrix\")\n",
        "best_t = find_best_threshold(tr_thresholds, train_fpr, train_tpr)\n",
        "cm = confusion_matrix(y_train_new, predict_with_best_t(y_train_pred, best_t))\n",
        "sns.heatmap(cm, annot=True, fmt='d')\n",
        "\n",
        "plt.show(ax)\n",
        "print(\"Test data confusion matrix\")\n",
        "fig = plt.figure()\n",
        "ax = fig.add_subplot(111)\n",
        "cm = confusion_matrix(y_test, predict_with_best_t(y_test_pred, best_t))\n",
        "sns.heatmap(cm, annot=True, fmt='d')\n",
        "\n",
        "plt.show(ax)"
      ],
      "execution_count": 17,
      "outputs": [
        {
          "output_type": "stream",
          "text": [
            "Train Data confusion matrix\n",
            "the maximum value of tpr*(1-fpr) 1.0 for threshold 1.0\n"
          ],
          "name": "stdout"
        },
        {
          "output_type": "display_data",
          "data": {
            "image/png": "[encoded data removed]",
            "text/plain": [
              "<Figure size 748.8x514.8 with 2 Axes>"
            ]
          },
          "metadata": {
            "tags": [],
            "needs_background": "light"
          }
        },
        {
          "output_type": "stream",
          "text": [
            "Test data confusion matrix\n"
          ],
          "name": "stdout"
        },
        {
          "output_type": "display_data",
          "data": {
            "image/png": "[encoded data removed]",
            "text/plain": [
              "<Figure size 748.8x514.8 with 2 Axes>"
            ]
          },
          "metadata": {
            "tags": [],
            "needs_background": "light"
          }
        }
      ]
    },
    {
      "cell_type": "code",
      "metadata": {
        "id": "3UQnaXFlWVrf"
      },
      "source": [
        "def accuracy(X_train, y_train, X_true, y_true, clf):\n",
        "        \n",
        "    train_score = clf.score(X_train, y_train)\n",
        "    test_score = clf.score(X_true, y_true)\n",
        "\n",
        "    print(f\"Train score = {train_score}\")\n",
        "    print(f\"Test score = {test_score}\")"
      ],
      "execution_count": 18,
      "outputs": []
    },
    {
      "cell_type": "code",
      "metadata": {
        "colab": {
          "base_uri": "https://localhost:8080/"
        },
        "id": "OTKfL6onWXZV",
        "outputId": "4eb07397-5975-4c03-e320-8bcd17ca3dac"
      },
      "source": [
        "accuracy(X_train_new, y_train_new, X_test, y_test, nb_tfidf)"
      ],
      "execution_count": 19,
      "outputs": [
        {
          "output_type": "stream",
          "text": [
            "Train score = 1.0\n",
            "Test score = 0.993455612943098\n"
          ],
          "name": "stdout"
        }
      ]
    },
    {
      "cell_type": "code",
      "metadata": {
        "colab": {
          "base_uri": "https://localhost:8080/",
          "height": 484
        },
        "id": "-cQPoffEBmEp",
        "outputId": "a3593faf-8597-477a-cd50-0a9ccb9bc9d9"
      },
      "source": [
        "from sklearn.metrics import roc_curve, auc\n",
        "\n",
        "nb_tfidf = DecisionTreeClassifier(max_depth=10)  \n",
        "\n",
        "nb_tfidf.fit(X_train_new, y_train_new)\n",
        "\n",
        "\n",
        "y_train_pred = pred_prob(nb_tfidf, X_train_new)    \n",
        "y_test_pred = pred_prob(nb_tfidf, X_test)\n",
        "\n",
        "train_fpr, train_tpr, tr_thresholds = roc_curve(y_train_new, y_train_pred)\n",
        "test_fpr, test_tpr, te_thresholds = roc_curve(y_test, y_test_pred)\n",
        "\n",
        "plt.plot(train_fpr, train_tpr, label=\"Train AUC =\"+str(auc(train_fpr, train_tpr)))\n",
        "plt.plot(test_fpr, test_tpr, label=\"Test AUC =\"+str(auc(test_fpr, test_tpr)))\n",
        "plt.legend()\n",
        "plt.xlabel(\"False Positive Rate(FPR)\")\n",
        "plt.ylabel(\"True Positive Rate(TPR)\")\n",
        "plt.title(\"AUC\")\n",
        "plt.grid()\n",
        "plt.show()"
      ],
      "execution_count": 21,
      "outputs": [
        {
          "output_type": "display_data",
          "data": {
            "image/png": "[encoded data removed]",
            "text/plain": [
              "<Figure size 748.8x514.8 with 1 Axes>"
            ]
          },
          "metadata": {
            "tags": [],
            "needs_background": "light"
          }
        }
      ]
    },
    {
      "cell_type": "code",
      "metadata": {
        "colab": {
          "base_uri": "https://localhost:8080/",
          "height": 930
        },
        "id": "npnMm6xwBzrB",
        "outputId": "d8b1810b-4f39-43d3-906d-0b245ba39dbb"
      },
      "source": [
        "fig = plt.figure()\n",
        "ax = fig.add_subplot(111)\n",
        "print(\"Train Data confusion matrix\")\n",
        "best_t = find_best_threshold(tr_thresholds, train_fpr, train_tpr)\n",
        "cm = confusion_matrix(y_train_new, predict_with_best_t(y_train_pred, best_t))\n",
        "sns.heatmap(cm, annot=True, fmt='d')\n",
        "\n",
        "plt.show(ax)\n",
        "print(\"Test data confusion matrix\")\n",
        "fig = plt.figure()\n",
        "ax = fig.add_subplot(111)\n",
        "cm = confusion_matrix(y_test, predict_with_best_t(y_test_pred, best_t))\n",
        "sns.heatmap(cm, annot=True, fmt='d')\n",
        "\n",
        "plt.show(ax)"
      ],
      "execution_count": 22,
      "outputs": [
        {
          "output_type": "stream",
          "text": [
            "Train Data confusion matrix\n",
            "the maximum value of tpr*(1-fpr) 0.9878452068291286 for threshold 0.591\n"
          ],
          "name": "stdout"
        },
        {
          "output_type": "display_data",
          "data": {
            "image/png": "[encoded data removed]",
            "text/plain": [
              "<Figure size 748.8x514.8 with 2 Axes>"
            ]
          },
          "metadata": {
            "tags": [],
            "needs_background": "light"
          }
        },
        {
          "output_type": "stream",
          "text": [
            "Test data confusion matrix\n"
          ],
          "name": "stdout"
        },
        {
          "output_type": "display_data",
          "data": {
            "image/png": "[encoded data removed]",
            "text/plain": [
              "<Figure size 748.8x514.8 with 2 Axes>"
            ]
          },
          "metadata": {
            "tags": [],
            "needs_background": "light"
          }
        }
      ]
    },
    {
      "cell_type": "code",
      "metadata": {
        "id": "sdEIg-H7BzrD"
      },
      "source": [
        "def accuracy(X_train, y_train, X_true, y_true, clf):\n",
        "        \n",
        "    train_score = clf.score(X_train, y_train)\n",
        "    test_score = clf.score(X_true, y_true)\n",
        "\n",
        "    print(f\"Train score = {train_score}\")\n",
        "    print(f\"Test score = {test_score}\")"
      ],
      "execution_count": 23,
      "outputs": []
    },
    {
      "cell_type": "code",
      "metadata": {
        "colab": {
          "base_uri": "https://localhost:8080/"
        },
        "id": "BncRuD0rBzrD",
        "outputId": "30fc86b3-6925-40ec-a3ff-348d73dd3316"
      },
      "source": [
        "accuracy(X_train_new, y_train_new, X_test, y_test, nb_tfidf)"
      ],
      "execution_count": 24,
      "outputs": [
        {
          "output_type": "stream",
          "text": [
            "Train score = 0.9939126283122464\n",
            "Test score = 0.9886328521608617\n"
          ],
          "name": "stdout"
        }
      ]
    }
  ]
}